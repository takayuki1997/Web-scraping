{
  "nbformat": 4,
  "nbformat_minor": 0,
  "metadata": {
    "colab": {
      "name": "Company_database_scraping_Fukushima_City.ipynb",
      "provenance": [],
      "mount_file_id": "17H1Dc4ZLF0MpQEfSx7_N5PpSffIMisjm",
      "authorship_tag": "ABX9TyNv3oRT1nu4SeG/E3G+FqZa",
      "include_colab_link": true
    },
    "kernelspec": {
      "name": "python3",
      "display_name": "Python 3"
    }
  },
  "cells": [
    {
      "cell_type": "markdown",
      "metadata": {
        "id": "view-in-github",
        "colab_type": "text"
      },
      "source": [
        "<a href=\"https://colab.research.google.com/github/takayuki1997/Web-scraping/blob/master/Company_database_scraping_Fukushima_City.ipynb\" target=\"_parent\"><img src=\"https://colab.research.google.com/assets/colab-badge.svg\" alt=\"Open In Colab\"/></a>"
      ]
    },
    {
      "cell_type": "markdown",
      "metadata": {
        "id": "fQVoP7-No968",
        "colab_type": "text"
      },
      "source": [
        "# ものづくりふくしまウェブ\n",
        "「ものづくりふくしまウェブ」は**福島市 商工観光部 商工業振興課 工業振興係**が作成している。  \n",
        "https://www.plaza.city.fukushima.fukushima.jp/  \n",
        "\n",
        "下記プログラムで全企業名とURLを表示させる。  \n",
        "スプレッドシートに手作業で企業名とURLをコピペ。  \n",
        "スプレッドシート上で、手作業で企業名とURLだけになるように整形。  \n"
      ]
    },
    {
      "cell_type": "code",
      "metadata": {
        "id": "lbl4Byqmo1Jw",
        "colab_type": "code",
        "colab": {}
      },
      "source": [
        "import requests\n",
        "from bs4 import BeautifulSoup\n",
        "\n",
        "url = \"https://www.plaza.city.fukushima.fukushima.jp/search50\"\n",
        "res = requests.get(url)\n",
        "soup = BeautifulSoup(res.content,'lxml')\n",
        "\n",
        "print(soup)"
      ],
      "execution_count": 0,
      "outputs": []
    },
    {
      "cell_type": "markdown",
      "metadata": {
        "id": "h9UbL3EKBHue",
        "colab_type": "text"
      },
      "source": [
        "取得したURLリストから各企業の個別ページにアクセスし、詳細な情報を取得する。"
      ]
    },
    {
      "cell_type": "code",
      "metadata": {
        "id": "Pp6M_B7xBcGV",
        "colab_type": "code",
        "colab": {}
      },
      "source": [
        "import pandas as pd\n",
        "import time\n",
        "\n",
        "start_end_company_number = [201, 245] # 1~245\n",
        "\n",
        "# 開くファイルの名前　＆　シート名\n",
        "open_file_name = '/content/drive/My Drive/絆会/ものづくりふくしまウェブ_URL.xlsx' # マウントしたgoogle drive\n",
        "open_sheet_name= '必要な部分を抜き出し'\n",
        "\n",
        "# 保存するファイルの名前\n",
        "save_file_name = '/content/drive/My Drive/絆会/ものづくりふくしまウェブ.csv' # マウントしたgoogle drive\n",
        "save_option = 1 # 0:not save, 1:save\n",
        "\n",
        "# ふくしまものづくりウェブのURLの前半部分\n",
        "URL_prefix = 'https://www.plaza.city.fukushima.fukushima.jp'\n",
        "\n",
        "#========================================================\n",
        "\n",
        "\n",
        "print('Start ==========')\n",
        "\n",
        "company_number = range(start_end_company_number[0]-1,start_end_company_number[1])\n",
        "\n",
        "\n",
        "# URLリストの読み込み\n",
        "url_list = pd.read_excel(open_file_name, sheet_name=open_sheet_name)\n",
        "num = len(url_list)\n",
        "\n",
        "\n",
        "# 最初の１社だけ実行\n",
        "url = URL_prefix + url_list.iat[0,2]\n",
        "\n",
        "df = pd.read_html(url)\n",
        "df = df[2]\n",
        "df = df.set_index(0)\n",
        "\n",
        "# forループ\n",
        "for m in company_number:\n",
        "  time.sleep(1)\n",
        "\n",
        "  print(m+1, url_list.iat[m,1])\n",
        "\n",
        "  url = URL_prefix + url_list.iat[m,2]\n",
        "  dfs = pd.read_html(url)\n",
        "  dfs = dfs[len(dfs)-1]\n",
        "  dfs = dfs.set_index(0)\n",
        "\n",
        "  df = pd.concat([df, dfs], axis=1)\n",
        "\n",
        "\n",
        "# 転置\n",
        "df = df.T\n",
        "\n",
        "\n",
        "# csvとして保存\n",
        "if save_option:\n",
        "  df.to_csv(save_file_name, encoding='utf_8_sig')\n",
        "  print('Saved %s' % save_file_name)\n",
        "else:\n",
        "  print('Not saved')\n",
        "\n",
        "\n",
        "# 終了\n",
        "print('Fine========================')"
      ],
      "execution_count": 0,
      "outputs": []
    }
  ]
}